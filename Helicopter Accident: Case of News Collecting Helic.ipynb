{
    "cells": [
        {
            "metadata": {
                "collapsed": true
            },
            "cell_type": "markdown",
            "source": " **Capstone Assignment 4th Week: Introduction, Problem Statement and Description of Data** \n    "
        },
        {
            "metadata": {},
            "cell_type": "markdown",
            "source": "<center> <h1> Helicopter Accident: Case of News Collecting Helicopters </h1> </center>"
        },
        {
            "metadata": {},
            "cell_type": "markdown",
            "source": "#### Introduction"
        },
        {
            "metadata": {},
            "cell_type": "markdown",
            "source": "According to International Helicopter Safety Team (IHST) and United States Helicopter Safety Team (USHST), a helicopter accident increased in the US in 2017, while it decreased internationally. \"There were 121 helicopter accidents\" in the US in 2017, \"of which 20 were fatal\" resulted in the death of 34 persons. Similarly, in 2016, the US helicopter industry contributed 108 accidents that caused 29 fatalities (Flight Safety Foundation, 2017). <p>\n\nA helicopter crash is some of aviation accidents. Like other tragedies, helicopter accident causes considerable losses on families, passengers, crew members and persons on a site during a crash. For instance, in the recent collision that took place in California, LA, on January 26, 2020, \"basketball icon Kobe Bryant, his daughter Gianna and seven others\" were killed (Hannah Hagemann, 2020). Among them, four persons were same family members.  In Settle, on March 19, 2014, KOMO News helicopter crash resulted in the death of two crew members, a pilot and a cameraman. The same accident caused burn and injuries on three drivers, who were on the site when the helicopter fell on the ground (Lynsi Burton and Levi Pulkkinen, 2014). On January 24, 2018, a Robinson R44 news helicopter shattered in the Recife Ocean, Brazil. The incident killed a pilot and a traffic controller onboard (Richard Pedicini, 2018). <p>\n    \nIn the early time, the main accident factors were perhaps associated with personnel behavior and mechanical conditions.  A pilot is (accountable for more than 50% of crashes followed by operational and material failure (Kenneth Waters (1977).  Even today, a pilot is a prime contributor to the accident.  Investigations by a federal aviation team linked a number of accidents to a pilot's spatial orientation (a misreading of direction or object in space) & other pilot behaviors followed by bad weather (details have been included in the final report of this project). <p> \n\nThe scope of the present project data is limited to the accident related to the news agencies' helicopter crashes. It does not include any data beyond the specified scope.  The helicopter accident during news collection has been recorded since the 1960s. Consequently, crew members and reporters, such cameramen who use helicopters as need rise remain vulnerable to the tragedy. Similarly, operators including a pilot are victims, as their passengers on board. <p>\n\nDespite the accident, helicopters are popular for transportation of people and cargo, military operation, construction, firefighting, search, rescue, visit or tourism, medical transportation, law enforcement, agricultural activities, news & media and aerial observation. They are vital for emergency operation at the time of disaster because of their accessibility to densely populated urban and remote areas.<p>\n\nMost of the helicopter industry is owned by private companies. The companies are generally grouped into two designations:\n>\n>1.\t**Airlines**: Involved broader services including transpiration of passengers and cargos.\n>\n>2.\t**Non-airlines**: Whose service is limited to specialized services such as medical evacuation, tourism, forest and agricultural cares, but not involved in passenger  and  cargo transportation (Wikipedia, 2020).<p>\n\nIn collaboration with manufacturers and Federal Aviation Administration (FAA), the helicopter companies are key players for safety improvement and accident prevention. Otherwise, cutting edge technology by itself will not guarantee desired safety. Indeed, it can be the other way around if operator selection criteria, training and personnel fitness are not compatible with a changing technology.<p>\n\nFor the purpose of this project, I have tried to understand some of helicopter business points of views.  Perhaps businesses are caught in conflicting interests of priority, safety and profit increment. It should be noted that meeting a minimum standard may not result in the desired safety conditions. Either, verbal safety emphasizes alone will not change a game, without a practical action.  Safety deserves appropriate allocation of budget for a planned continuous improvement, especially in the areas discussed above. Furthermore, safety needs strict enforcement of aviation regulations, special in situations, like bad weather. It seems there are temptations in these areas, due to short-term conflicting priority on safety and profit interests. <p>\n    \nThe companies can change safety game, increase and secure their revenue eventually by placing priority in long term interests, of which can be achievable through safe services, marinating existing clients and attracting new customers. \n"
        },
        {
            "metadata": {},
            "cell_type": "markdown",
            "source": "#### Statement of Business Problem"
        },
        {
            "metadata": {},
            "cell_type": "markdown",
            "source": "The helicopter industry has raw data investigated by FAA. But, unlike other sectors, the helicopter industry has little statistically analyzed and measured data can be utilized for decision-making. The data to be useful for the businesses should be converted to information trough appropriate statics and data mining techniques. The current project is designed to look into particularly the helicopter accident related to news collecting agencies, 1960-2018. The available historical data is utilized to illustrate complete pictures of the accident. Since this project is planned to fill the business information gap and create awareness among stakeholders, actually it will:\n>1.\tProvide a statistical description of accident on human causality.\n>2.\tInvestigate any relations between injury and fatality.\n>3.\tDiscuss a few common causes that may account more than 50 percent of the accident.\n>4.\tCluster agencies on the basis of an accident rate or a number of causalities.<p>"
        },
        {
            "metadata": {},
            "cell_type": "markdown",
            "source": "#### Methodologies in Brief"
        },
        {
            "metadata": {},
            "cell_type": "markdown",
            "source": "Due to the nature of data, the present project involves data understanding and collection, data preparation, descriptive analysis, probably modeling of Simple Linear Regression) and K-means cultural techniques (detail will be discussed in the methodologies section)."
        },
        {
            "metadata": {},
            "cell_type": "markdown",
            "source": "#### Description of Data"
        },
        {
            "metadata": {},
            "cell_type": "markdown",
            "source": "Data search for the present project took me virtually two weeks. First of all, as part of the training, I decided to use scraped data from a web page and in the safety area. I made a search in a traffic accident in various cities and states. I was able to locate some data in New York City on automobile traffic crashes, but the data was published in non-HTML formats and require a different technology to scrape successfully, and then I consider another option. After an exhaustive search in the second week, I found data in the HTML format on helicopter crash 1960-2018. It is small in size, but fairly enough to run this project. The characteristics of the data are illustrated as follows:\n> Source: Wikipedia\n    \n> Format: HTML format\n    \n> Data Type: String\n    \n> Number of rows: 77\n    \n> Number of features or columns: 7\n>    \n\nThese features are Accident Date, Location, News Org., Description, F (fatal), I (injury) and Official Cause. The values F and I stated in numbers, but in the string format. The rest of the columns are text or string statements. \n"
        },
        {
            "metadata": {},
            "cell_type": "markdown",
            "source": "#### Use of Data"
        },
        {
            "metadata": {},
            "cell_type": "markdown",
            "source": "Important features for analysis are primarily F, I and Official Cause. The numeric texts of F and I will be converted to integer or float and used for the analysis outlined in the problem statement, in Methodologies section. One additional column is also to be added on the end right and be designated as Total, which will contain the sum of F and I. The Official Cause (column) consists of a long statement for each row. The original statements of this column will be kept as it is for the benefits of readers, comparison and quick reference. However, the content of this feature, especially its likely contribution to F and I will be discussed qualitatively, not quantitatively. News org. is likely to be renamed and appeared in a clustered table with labels that range 0 to 2. Which means that one News org can fall in one of the levels of clusters: cluster-0 or cluster-1 or cluster-2."
        },
        {
            "metadata": {},
            "cell_type": "markdown",
            "source": "#### Potential Stakeholders of the Project"
        },
        {
            "metadata": {},
            "cell_type": "markdown",
            "source": "The primary stakeholder for this project is Federal Aviation Administration (FAA). Other important possible beneficiaries are the helicopter industries, news agencies and at large public."
        },
        {
            "metadata": {},
            "cell_type": "markdown",
            "source": "**Note**: If anybody who has any constructive feedback can contact me directly through my email associated with this project in the next 5 days."
        },
        {
            "metadata": {},
            "cell_type": "code",
            "source": "<p>This is a guide on <a href=\"http://en.wikipedia.org/wiki/Markdown\">Markdown</a>.</p>",
            "execution_count": null,
            "outputs": []
        }
    ],
    "metadata": {
        "kernelspec": {
            "name": "python3",
            "display_name": "Python 3.6",
            "language": "python"
        },
        "language_info": {
            "name": "python",
            "version": "3.6.9",
            "mimetype": "text/x-python",
            "codemirror_mode": {
                "name": "ipython",
                "version": 3
            },
            "pygments_lexer": "ipython3",
            "nbconvert_exporter": "python",
            "file_extension": ".py"
        }
    },
    "nbformat": 4,
    "nbformat_minor": 1
}