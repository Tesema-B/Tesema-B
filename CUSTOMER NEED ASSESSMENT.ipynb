{
    "cells": [
        {
            "cell_type": "markdown",
            "metadata": {
                "collapsed": true
            },
            "source": "## Customer Need Assessment Model (Part-1)"
        },
        {
            "cell_type": "markdown",
            "metadata": {},
            "source": "<p style=\"text-align: center;\">By T. B. Tesema  and Stefan Gucu </p> "
        },
        {
            "cell_type": "markdown",
            "metadata": {},
            "source": "Virtually, all companies spend a lot of resources to identify customer needs and how to satisfy their customers. Because any business companies' survival and growth is highly depends on its ability to meet or exceed customer expectations.\n\nDeveloping appropriate, simple, economical and reliable model is very essential in the process. The current project, entitled Customer Need Assessment Model designed to achieve this goal. The model has been developed on pizza sales hypothetical data and designed to identify and predict customer needs, for the pizza companies. \n\nData Science methodologies: Clustering, Multiple Regression, and Logistic Regression are used for the investigations.  In other words, the model is intended to determine and predict a company's market. Although pizza order data has been utilized for the model development, key attributes used on the model are applicable to most companies, for market assessment.  \n\n**Rows**:  Rows will comprise of types of pizzas.\n\n**Attributes/columns**:  Consists of Order-ID, Zip_Code (Postal_Code), Age, Income, Order Frequency, Gender, and Customer-Status (Visitor (V), Acquaint (A), Customer (C)). Other attributes may be added if necessary.\nThe project Model divided into four-parts for publication:\n>Part-1, Visualization \n>\n>Part-2, K-means Clustering\n>\n>Part-3, Multiple Regression and \n>\n>Part-4, Logistic Regression. \n\nThe present publication consists of the first section, Part-1; the remaining order will be published in consecutive orders as listed above on github with codes. Once all sections are published on github and refined, copies of the model to be published on blogs or Linkin for public consumption without code."
        },
        {
            "cell_type": "code",
            "execution_count": 5,
            "metadata": {},
            "outputs": [],
            "source": "# Libraries\nimport pandas as pd\nimport numpy as np\nimport seaborn as sns\nimport matplotlib.pyplot as plt\n%matplotlib inline\nimport matplotlib.cm as cm\nimport matplotlib.colors as colors"
        },
        {
            "cell_type": "code",
            "execution_count": null,
            "metadata": {},
            "outputs": [],
            "source": ""
        }
    ],
    "metadata": {
        "kernelspec": {
            "display_name": "Python 3.6",
            "language": "python",
            "name": "python3"
        },
        "language_info": {
            "codemirror_mode": {
                "name": "ipython",
                "version": 3
            },
            "file_extension": ".py",
            "mimetype": "text/x-python",
            "name": "python",
            "nbconvert_exporter": "python",
            "pygments_lexer": "ipython3",
            "version": "3.6.9"
        }
    },
    "nbformat": 4,
    "nbformat_minor": 1
}