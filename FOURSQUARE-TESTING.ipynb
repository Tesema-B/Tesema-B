{
 "cells": [
  {
   "cell_type": "code",
   "execution_count": 1,
   "metadata": {},
   "outputs": [
    {
     "data": {
      "text/html": [
       "<script>\n",
       "code_show=true; \n",
       "function code_toggle() {\n",
       " if (code_show){\n",
       " $('div.input').hide();\n",
       " } else {\n",
       " $('div.input').show();\n",
       " }\n",
       " code_show = !code_show\n",
       "} \n",
       "$( document ).ready(code_toggle);\n",
       "</script>\n",
       "<form action=\"javascript:code_toggle()\"><input type=\"submit\" value=\"Click here to toggle on/off the raw code.\"></form>"
      ],
      "text/plain": [
       "<IPython.core.display.HTML object>"
      ]
     },
     "execution_count": 1,
     "metadata": {},
     "output_type": "execute_result"
    }
   ],
   "source": [
    "from IPython.display import HTML\n",
    "\n",
    "HTML('''<script>\n",
    "code_show=true; \n",
    "function code_toggle() {\n",
    " if (code_show){\n",
    " $('div.input').hide();\n",
    " } else {\n",
    " $('div.input').show();\n",
    " }\n",
    " code_show = !code_show\n",
    "} \n",
    "$( document ).ready(code_toggle);\n",
    "</script>\n",
    "<form action=\"javascript:code_toggle()\"><input type=\"submit\" value=\"Click here to toggle on/off the raw code.\"></form>''')\n"
   ]
  },
  {
   "cell_type": "code",
   "execution_count": 3,
   "metadata": {},
   "outputs": [
    {
     "name": "stdout",
     "output_type": "stream",
     "text": [
      "Libraries imported.\n"
     ]
    }
   ],
   "source": [
    "# IMPORT LIBRARIES\n",
    "\n",
    "import numpy as np # library to handle data in a vectorized manner\n",
    "import pandas as pd # library for data analsysis\n",
    "pd.set_option('display.max_columns', None)\n",
    "pd.set_option('display.max_rows', None)\n",
    "\n",
    "\n",
    "import json # library to handle JSON files\n",
    "\n",
    "#!conda install -c conda-forge geopy --yes # uncomment this line if you haven't completed the Foursquare API lab\n",
    "from geopy.geocoders import Nominatim # convert an address into latitude and longitude values\n",
    "\n",
    "import requests # library to handle requests\n",
    "from pandas.io.json import json_normalize # tranform JSON file into a pandas dataframe\n",
    "\n",
    "# Matplotlib and associated plotting modules\n",
    "import matplotlib.cm as cm\n",
    "import matplotlib.colors as colors\n",
    "\n",
    "# import k-means from clustering stage\n",
    "from sklearn.cluster import KMeans\n",
    "\n",
    "#!conda install -c conda-forge folium=0.5.0 --yes # uncomment this line if you haven't completed the Foursquare API lab\n",
    "import folium # map rendering library\n",
    "\n",
    "print('Libraries imported.')"
   ]
  },
  {
   "cell_type": "markdown",
   "metadata": {},
   "source": [
    "### Starting by entering credentials:"
   ]
  },
  {
   "cell_type": "code",
   "execution_count": 5,
   "metadata": {},
   "outputs": [
    {
     "name": "stdout",
     "output_type": "stream",
     "text": [
      "Credentails:\n",
      "CLIENT_ID: B0QDHAKICCF4YA3DKNB5YNOEJNACR5PXFUONV1YB3JIUHWAY\n",
      "CLIENT_SECRET:QEKV5BXAIX2V55XXTIA1MLGVKGOYW1FKMOUGNE2SYCVYFTL0\n"
     ]
    }
   ],
   "source": [
    "CLIENT_ID = 'B0QDHAKICCF4YA3DKNB5YNOEJNACR5PXFUONV1YB3JIUHWAY' # your Foursquare ID\n",
    "CLIENT_SECRET = 'QEKV5BXAIX2V55XXTIA1MLGVKGOYW1FKMOUGNE2SYCVYFTL0' # your Foursquare Secret\n",
    "VERSION = '20180604'\n",
    "LIMIT = 30\n",
    "print('Credentails:')\n",
    "print('CLIENT_ID: ' + CLIENT_ID)\n",
    "print('CLIENT_SECRET:' + CLIENT_SECRET)"
   ]
  },
  {
   "cell_type": "code",
   "execution_count": 6,
   "metadata": {},
   "outputs": [],
   "source": [
    "#address = '400 Broad St, Space Needle, Seattle, WA 98109'\n",
    "address = '400 Broad St, Seattle, WA'\n",
    "# address = '102 North End Ave, New York, NY'"
   ]
  },
  {
   "cell_type": "code",
   "execution_count": 25,
   "metadata": {},
   "outputs": [
    {
     "name": "stdout",
     "output_type": "stream",
     "text": [
      "Seattle latitude and longitude 47.6205131 -122.34930359883187\n"
     ]
    }
   ],
   "source": [
    "geolocator = Nominatim(user_agent=\"foursquare_agent\")\n",
    "location = geolocator.geocode(address)\n",
    "latitude = location.latitude\n",
    "longitude = location.longitude\n",
    "print('Seattle latitude and longitude', latitude, longitude)"
   ]
  },
  {
   "cell_type": "markdown",
   "metadata": {},
   "source": [
    "School Search Query Defined"
   ]
  },
  {
   "cell_type": "code",
   "execution_count": 8,
   "metadata": {},
   "outputs": [
    {
     "name": "stdout",
     "output_type": "stream",
     "text": [
      "School .... Hello!\n"
     ]
    }
   ],
   "source": [
    "search_query = 'School'\n",
    "radius = 500\n",
    "print(search_query + ' .... Hello!')"
   ]
  },
  {
   "cell_type": "markdown",
   "metadata": {},
   "source": [
    "Define the corresponding URL"
   ]
  },
  {
   "cell_type": "code",
   "execution_count": 9,
   "metadata": {},
   "outputs": [
    {
     "data": {
      "text/plain": [
       "'https://api.foursquare.com/v2/venues/search?client_id=B0QDHAKICCF4YA3DKNB5YNOEJNACR5PXFUONV1YB3JIUHWAY&client_secret=QEKV5BXAIX2V55XXTIA1MLGVKGOYW1FKMOUGNE2SYCVYFTL0&ll=47.6205131,-122.34930359883187&v=20180604&query=School&radius=500&limit=30'"
      ]
     },
     "execution_count": 9,
     "metadata": {},
     "output_type": "execute_result"
    }
   ],
   "source": [
    "url = 'https://api.foursquare.com/v2/venues/search?client_id={}&client_secret={}&ll={},{}&v={}&query={}&radius={}&limit={}'.format(CLIENT_ID, CLIENT_SECRET, latitude, longitude, VERSION, search_query, radius, LIMIT)\n",
    "url"
   ]
  },
  {
   "cell_type": "code",
   "execution_count": 10,
   "metadata": {},
   "outputs": [],
   "source": [
    "results = requests.get(url).json()\n"
   ]
  },
  {
   "cell_type": "markdown",
   "metadata": {},
   "source": [
    "### The search result, initial dataframe before filtering data and modifying columns:"
   ]
  },
  {
   "cell_type": "code",
   "execution_count": 20,
   "metadata": {},
   "outputs": [
    {
     "data": {
      "text/html": [
       "<div>\n",
       "<style scoped>\n",
       "    .dataframe tbody tr th:only-of-type {\n",
       "        vertical-align: middle;\n",
       "    }\n",
       "\n",
       "    .dataframe tbody tr th {\n",
       "        vertical-align: top;\n",
       "    }\n",
       "\n",
       "    .dataframe thead th {\n",
       "        text-align: right;\n",
       "    }\n",
       "</style>\n",
       "<table border=\"1\" class=\"dataframe\">\n",
       "  <thead>\n",
       "    <tr style=\"text-align: right;\">\n",
       "      <th></th>\n",
       "      <th>id</th>\n",
       "      <th>name</th>\n",
       "      <th>categories</th>\n",
       "      <th>referralId</th>\n",
       "      <th>hasPerk</th>\n",
       "      <th>location.address</th>\n",
       "      <th>location.crossStreet</th>\n",
       "      <th>location.lat</th>\n",
       "      <th>location.lng</th>\n",
       "      <th>location.labeledLatLngs</th>\n",
       "      <th>location.distance</th>\n",
       "      <th>location.postalCode</th>\n",
       "      <th>location.cc</th>\n",
       "      <th>location.city</th>\n",
       "      <th>location.state</th>\n",
       "      <th>location.country</th>\n",
       "      <th>location.formattedAddress</th>\n",
       "    </tr>\n",
       "  </thead>\n",
       "  <tbody>\n",
       "    <tr>\n",
       "      <th>0</th>\n",
       "      <td>4dd5c8efae60680f14df449e</td>\n",
       "      <td>Pacific Northwest Ballet School - Seattle Phel...</td>\n",
       "      <td>[{'id': '4bf58dd8d48988d176941735', 'name': 'G...</td>\n",
       "      <td>v-1589844862</td>\n",
       "      <td>False</td>\n",
       "      <td>301 Mercer St</td>\n",
       "      <td>at 3rd Ave N</td>\n",
       "      <td>47.624239</td>\n",
       "      <td>-122.351470</td>\n",
       "      <td>[{'label': 'display', 'lat': 47.62423904290061...</td>\n",
       "      <td>445</td>\n",
       "      <td>98109</td>\n",
       "      <td>US</td>\n",
       "      <td>Seattle</td>\n",
       "      <td>WA</td>\n",
       "      <td>United States</td>\n",
       "      <td>[301 Mercer St (at 3rd Ave N), Seattle, WA 981...</td>\n",
       "    </tr>\n",
       "    <tr>\n",
       "      <th>1</th>\n",
       "      <td>4d9f4be6640b548106a9dd2d</td>\n",
       "      <td>The Center School</td>\n",
       "      <td>[{'id': '4bf58dd8d48988d13b941735', 'name': 'S...</td>\n",
       "      <td>v-1589844862</td>\n",
       "      <td>False</td>\n",
       "      <td>305 Harrison St</td>\n",
       "      <td>NaN</td>\n",
       "      <td>47.621098</td>\n",
       "      <td>-122.350840</td>\n",
       "      <td>[{'label': 'display', 'lat': 47.62109838760947...</td>\n",
       "      <td>132</td>\n",
       "      <td>98109</td>\n",
       "      <td>US</td>\n",
       "      <td>Seattle</td>\n",
       "      <td>WA</td>\n",
       "      <td>United States</td>\n",
       "      <td>[305 Harrison St, Seattle, WA 98109, United St...</td>\n",
       "    </tr>\n",
       "    <tr>\n",
       "      <th>2</th>\n",
       "      <td>4c99509778ffa0930c0e6375</td>\n",
       "      <td>Arthur Murry School Of Dance</td>\n",
       "      <td>[{'id': '4bf58dd8d48988d134941735', 'name': 'D...</td>\n",
       "      <td>v-1589844862</td>\n",
       "      <td>False</td>\n",
       "      <td>NaN</td>\n",
       "      <td>NaN</td>\n",
       "      <td>47.623852</td>\n",
       "      <td>-122.347428</td>\n",
       "      <td>[{'label': 'display', 'lat': 47.62385228849827...</td>\n",
       "      <td>397</td>\n",
       "      <td>98109</td>\n",
       "      <td>US</td>\n",
       "      <td>Seattle</td>\n",
       "      <td>WA</td>\n",
       "      <td>United States</td>\n",
       "      <td>[Seattle, WA 98109, United States]</td>\n",
       "    </tr>\n",
       "    <tr>\n",
       "      <th>3</th>\n",
       "      <td>4db9c674815445c8ca3d0e83</td>\n",
       "      <td>Seattle Public Schools Dept of Athletics</td>\n",
       "      <td>[{'id': '4bf58dd8d48988d13b941735', 'name': 'S...</td>\n",
       "      <td>v-1589844862</td>\n",
       "      <td>False</td>\n",
       "      <td>400-498 5th Ave N</td>\n",
       "      <td>Harrison St</td>\n",
       "      <td>47.622238</td>\n",
       "      <td>-122.347588</td>\n",
       "      <td>[{'label': 'display', 'lat': 47.62223807, 'lng...</td>\n",
       "      <td>231</td>\n",
       "      <td>98109</td>\n",
       "      <td>US</td>\n",
       "      <td>Seattle</td>\n",
       "      <td>WA</td>\n",
       "      <td>United States</td>\n",
       "      <td>[400-498 5th Ave N (Harrison St), Seattle, WA ...</td>\n",
       "    </tr>\n",
       "  </tbody>\n",
       "</table>\n",
       "</div>"
      ],
      "text/plain": [
       "                         id  \\\n",
       "0  4dd5c8efae60680f14df449e   \n",
       "1  4d9f4be6640b548106a9dd2d   \n",
       "2  4c99509778ffa0930c0e6375   \n",
       "3  4db9c674815445c8ca3d0e83   \n",
       "\n",
       "                                                name  \\\n",
       "0  Pacific Northwest Ballet School - Seattle Phel...   \n",
       "1                                  The Center School   \n",
       "2                       Arthur Murry School Of Dance   \n",
       "3           Seattle Public Schools Dept of Athletics   \n",
       "\n",
       "                                          categories    referralId  hasPerk  \\\n",
       "0  [{'id': '4bf58dd8d48988d176941735', 'name': 'G...  v-1589844862    False   \n",
       "1  [{'id': '4bf58dd8d48988d13b941735', 'name': 'S...  v-1589844862    False   \n",
       "2  [{'id': '4bf58dd8d48988d134941735', 'name': 'D...  v-1589844862    False   \n",
       "3  [{'id': '4bf58dd8d48988d13b941735', 'name': 'S...  v-1589844862    False   \n",
       "\n",
       "    location.address location.crossStreet  location.lat  location.lng  \\\n",
       "0      301 Mercer St         at 3rd Ave N     47.624239   -122.351470   \n",
       "1    305 Harrison St                  NaN     47.621098   -122.350840   \n",
       "2                NaN                  NaN     47.623852   -122.347428   \n",
       "3  400-498 5th Ave N          Harrison St     47.622238   -122.347588   \n",
       "\n",
       "                             location.labeledLatLngs  location.distance  \\\n",
       "0  [{'label': 'display', 'lat': 47.62423904290061...                445   \n",
       "1  [{'label': 'display', 'lat': 47.62109838760947...                132   \n",
       "2  [{'label': 'display', 'lat': 47.62385228849827...                397   \n",
       "3  [{'label': 'display', 'lat': 47.62223807, 'lng...                231   \n",
       "\n",
       "  location.postalCode location.cc location.city location.state  \\\n",
       "0               98109          US       Seattle             WA   \n",
       "1               98109          US       Seattle             WA   \n",
       "2               98109          US       Seattle             WA   \n",
       "3               98109          US       Seattle             WA   \n",
       "\n",
       "  location.country                          location.formattedAddress  \n",
       "0    United States  [301 Mercer St (at 3rd Ave N), Seattle, WA 981...  \n",
       "1    United States  [305 Harrison St, Seattle, WA 98109, United St...  \n",
       "2    United States                 [Seattle, WA 98109, United States]  \n",
       "3    United States  [400-498 5th Ave N (Harrison St), Seattle, WA ...  "
      ]
     },
     "execution_count": 20,
     "metadata": {},
     "output_type": "execute_result"
    }
   ],
   "source": [
    "# assign relevant part of JSON to venues\n",
    "venues = results['response']['venues']\n",
    "\n",
    "# tranform venues into a dataframe\n",
    "dataframe = json_normalize(venues)\n",
    "dataframe"
   ]
  },
  {
   "cell_type": "code",
   "execution_count": 34,
   "metadata": {},
   "outputs": [],
   "source": [
    "# keep only columns that include venue name, and anything that is associated with location\n",
    "filtered_columns = ['name', 'categories'] + [col for col in dataframe.columns if col.startswith('location.')] + ['id']\n",
    "dataframe_filtered = dataframe.loc[:, filtered_columns]\n",
    "\n",
    "# function that extracts the category of the venue\n",
    "def get_category_type(row):\n",
    "    try:\n",
    "        categories_list = row['categories']\n",
    "    except:\n",
    "        categories_list = row['venue.categories']\n",
    "        \n",
    "    if len(categories_list) == 0:\n",
    "        return None\n",
    "    else:\n",
    "        return categories_list[0]['name']\n",
    "\n",
    "# filter the category for each row\n",
    "dataframe_filtered['categories'] = dataframe_filtered.apply(get_category_type, axis=1)\n",
    "\n",
    "# clean column names by keeping only last term\n",
    "dataframe_filtered.columns = [column.split('.')[-1] for column in dataframe_filtered.columns]\n",
    "\n",
    "dataframe_filtered"
   ]
  },
  {
   "cell_type": "code",
   "execution_count": 33,
   "metadata": {},
   "outputs": [],
   "source": [
    "dataframe_filtered.drop(['crossStreet', 'labeledLatLngs', 'distance', 'cc', 'formattedAddress'], axis =1, inplace = True)\n",
    "dataframe_filtered"
   ]
  },
  {
   "cell_type": "markdown",
   "metadata": {},
   "source": [
    "#### Filtered data frame with modified columns. The reader can see droped and modified columns from codes by clicking the toggle shown at the top."
   ]
  },
  {
   "cell_type": "code",
   "execution_count": 23,
   "metadata": {},
   "outputs": [
    {
     "data": {
      "text/html": [
       "<div>\n",
       "<style scoped>\n",
       "    .dataframe tbody tr th:only-of-type {\n",
       "        vertical-align: middle;\n",
       "    }\n",
       "\n",
       "    .dataframe tbody tr th {\n",
       "        vertical-align: top;\n",
       "    }\n",
       "\n",
       "    .dataframe thead th {\n",
       "        text-align: right;\n",
       "    }\n",
       "</style>\n",
       "<table border=\"1\" class=\"dataframe\">\n",
       "  <thead>\n",
       "    <tr style=\"text-align: right;\">\n",
       "      <th></th>\n",
       "      <th>name</th>\n",
       "      <th>categories</th>\n",
       "      <th>address</th>\n",
       "      <th>latitude</th>\n",
       "      <th>longtitude</th>\n",
       "      <th>postal code</th>\n",
       "      <th>city</th>\n",
       "      <th>state</th>\n",
       "      <th>country</th>\n",
       "      <th>id</th>\n",
       "    </tr>\n",
       "  </thead>\n",
       "  <tbody>\n",
       "    <tr>\n",
       "      <th>0</th>\n",
       "      <td>Pacific Northwest Ballet School - Seattle Phel...</td>\n",
       "      <td>Gym</td>\n",
       "      <td>301 Mercer St</td>\n",
       "      <td>47.624239</td>\n",
       "      <td>-122.351470</td>\n",
       "      <td>98109</td>\n",
       "      <td>Seattle</td>\n",
       "      <td>WA</td>\n",
       "      <td>United States</td>\n",
       "      <td>4dd5c8efae60680f14df449e</td>\n",
       "    </tr>\n",
       "    <tr>\n",
       "      <th>1</th>\n",
       "      <td>The Center School</td>\n",
       "      <td>School</td>\n",
       "      <td>305 Harrison St</td>\n",
       "      <td>47.621098</td>\n",
       "      <td>-122.350840</td>\n",
       "      <td>98109</td>\n",
       "      <td>Seattle</td>\n",
       "      <td>WA</td>\n",
       "      <td>United States</td>\n",
       "      <td>4d9f4be6640b548106a9dd2d</td>\n",
       "    </tr>\n",
       "    <tr>\n",
       "      <th>2</th>\n",
       "      <td>Arthur Murry School Of Dance</td>\n",
       "      <td>Dance Studio</td>\n",
       "      <td>NaN</td>\n",
       "      <td>47.623852</td>\n",
       "      <td>-122.347428</td>\n",
       "      <td>98109</td>\n",
       "      <td>Seattle</td>\n",
       "      <td>WA</td>\n",
       "      <td>United States</td>\n",
       "      <td>4c99509778ffa0930c0e6375</td>\n",
       "    </tr>\n",
       "    <tr>\n",
       "      <th>3</th>\n",
       "      <td>Seattle Public Schools Dept of Athletics</td>\n",
       "      <td>School</td>\n",
       "      <td>400-498 5th Ave N</td>\n",
       "      <td>47.622238</td>\n",
       "      <td>-122.347588</td>\n",
       "      <td>98109</td>\n",
       "      <td>Seattle</td>\n",
       "      <td>WA</td>\n",
       "      <td>United States</td>\n",
       "      <td>4db9c674815445c8ca3d0e83</td>\n",
       "    </tr>\n",
       "  </tbody>\n",
       "</table>\n",
       "</div>"
      ],
      "text/plain": [
       "                                                name    categories  \\\n",
       "0  Pacific Northwest Ballet School - Seattle Phel...           Gym   \n",
       "1                                  The Center School        School   \n",
       "2                       Arthur Murry School Of Dance  Dance Studio   \n",
       "3           Seattle Public Schools Dept of Athletics        School   \n",
       "\n",
       "             address   latitude  longtitude postal code     city state  \\\n",
       "0      301 Mercer St  47.624239 -122.351470       98109  Seattle    WA   \n",
       "1    305 Harrison St  47.621098 -122.350840       98109  Seattle    WA   \n",
       "2                NaN  47.623852 -122.347428       98109  Seattle    WA   \n",
       "3  400-498 5th Ave N  47.622238 -122.347588       98109  Seattle    WA   \n",
       "\n",
       "         country                        id  \n",
       "0  United States  4dd5c8efae60680f14df449e  \n",
       "1  United States  4d9f4be6640b548106a9dd2d  \n",
       "2  United States  4c99509778ffa0930c0e6375  \n",
       "3  United States  4db9c674815445c8ca3d0e83  "
      ]
     },
     "execution_count": 23,
     "metadata": {},
     "output_type": "execute_result"
    }
   ],
   "source": [
    "dataframe_filtered.rename(columns = {'lat': 'latitude', 'lng': 'longtitude', 'postalCode': 'postal code'}, inplace = True)\n",
    "dataframe_filtered                               "
   ]
  },
  {
   "cell_type": "markdown",
   "metadata": {},
   "source": [
    "#### Accident area map indicates four schools within radius of 500 meters"
   ]
  },
  {
   "cell_type": "code",
   "execution_count": 31,
   "metadata": {},
   "outputs": [
    {
     "data": {
      "text/html": [
       "<div style=\"width:100%;\"><div style=\"position:relative;width:100%;height:0;padding-bottom:60%;\"><iframe src=\"about:blank\" style=\"position:absolute;width:100%;height:100%;left:0;top:0;border:none !important;\" data-html=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 onload=\"this.contentDocument.open();this.contentDocument.write(atob(this.getAttribute('data-html')));this.contentDocument.close();\" allowfullscreen webkitallowfullscreen mozallowfullscreen></iframe></div></div>"
      ],
      "text/plain": [
       "<folium.folium.Map at 0xc5ca5c0>"
      ]
     },
     "execution_count": 31,
     "metadata": {},
     "output_type": "execute_result"
    }
   ],
   "source": [
    "venues_map = folium.Map(location=[latitude, longitude], zoom_start=13) # Let us generate map centred around the crash area\n",
    "\n",
    "# add a red circle marker to represent the Conrad Hotel\n",
    "folium.CircleMarker(\n",
    "    [latitude, longitude],\n",
    "    radius=10,\n",
    "    color='red',\n",
    "    popup='Conrad Hotel',\n",
    "    fill = True,\n",
    "    fill_color = 'red',\n",
    "    fill_opacity = 0.6\n",
    ").add_to(venues_map)\n",
    "\n",
    "# add the Italian restaurants as blue circle markers\n",
    "for lat, lng, label in zip(dataframe_filtered.lat, dataframe_filtered.lng, dataframe_filtered.categories):\n",
    "    folium.CircleMarker(\n",
    "        [lat, lng],\n",
    "        radius=5,\n",
    "        color='blue',\n",
    "        popup=label,\n",
    "        fill = True,\n",
    "        fill_color='blue',\n",
    "        fill_opacity=0.6\n",
    "    ).add_to(venues_map)\n",
    "\n",
    "# display map\n",
    "venues_map"
   ]
  },
  {
   "cell_type": "code",
   "execution_count": null,
   "metadata": {},
   "outputs": [],
   "source": []
  }
 ],
 "metadata": {
  "kernelspec": {
   "display_name": "Python 3",
   "language": "python",
   "name": "python3"
  },
  "language_info": {
   "codemirror_mode": {
    "name": "ipython",
    "version": 3
   },
   "file_extension": ".py",
   "mimetype": "text/x-python",
   "name": "python",
   "nbconvert_exporter": "python",
   "pygments_lexer": "ipython3",
   "version": "3.7.3"
  }
 },
 "nbformat": 4,
 "nbformat_minor": 2
}
