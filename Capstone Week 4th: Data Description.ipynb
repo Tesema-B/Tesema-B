{
    "cells": [
        {
            "metadata": {
                "collapsed": true
            },
            "cell_type": "markdown",
            "source": "### Description of Data"
        },
        {
            "metadata": {},
            "cell_type": "markdown",
            "source": "Data search for the present project took me virtually two weeks. First of all, as part of the training, I decided to use scraped data from a web page and in the safety area. I made a search in a traffic accident in various cities and states. I was able to locate some data in New York City on automobile traffic crashes, but the data was published in non-HTML formats and require a different technology to scrape successfully, and then I consider another option. After an exhaustive search in the second week, I found data in the HTML format on helicopter crash 1960-2018. It is small in size, but fairly enough to run this project. The characteristics of the data are illustrated as follows:\nSource: Wikipedia\n    \n> Format: HTML format\n    \n> Data Type: String\n    \n> Number of rows: 77\n    \n> Number of features or columns: 7\n\nThese features are Accident Date, Location, News Org., Description, F (fatal), I (injury) and Official Cause. The values F and I stated in numbers, but in the string format. The rest of the columns are text or string statements. "
        },
        {
            "metadata": {},
            "cell_type": "markdown",
            "source": "### Use of Data"
        },
        {
            "metadata": {},
            "cell_type": "markdown",
            "source": "Important features for analysis are primarily F, I and Official Cause. The numeric texts of F and I will be converted to integer or float and used for the analysis outlined in the problem statement, in Methodologies section. One additional column is also to be added on the end right and be designated as Total, which will contain the sum of F and I. The Official Cause (column) consists of a long statement for each row. The original statements of this column will be kept as it is for the benefits of readers, comparison and quick reference. However, the content of this feature, especially its likely contribution to F and I will be discussed qualitatively, not quantitatively. News org. is likely to be renamed and appeared in a clustered table with labels that range 0 to 2. Which means that one News org can fall in one of the levels of clusters: cluster-0 or cluster-1 or cluster-2."
        },
        {
            "metadata": {},
            "cell_type": "markdown",
            "source": "#### Potential Stakeholders of the Project"
        },
        {
            "metadata": {},
            "cell_type": "markdown",
            "source": "The primary stakeholder for this project is Federal Aviation Administration (FAA). Other important possible beneficiaries are the helicopter industries, news agencies and at large public."
        },
        {
            "metadata": {},
            "cell_type": "markdown",
            "source": "**Note**: If anybody who has any constructive feedback can contact me directly through my email associated with this project in the next 5 days."
        }
    ],
    "metadata": {
        "kernelspec": {
            "name": "python3",
            "display_name": "Python 3.6",
            "language": "python"
        },
        "language_info": {
            "name": "python",
            "version": "3.6.9",
            "mimetype": "text/x-python",
            "codemirror_mode": {
                "name": "ipython",
                "version": 3
            },
            "pygments_lexer": "ipython3",
            "nbconvert_exporter": "python",
            "file_extension": ".py"
        }
    },
    "nbformat": 4,
    "nbformat_minor": 1
}