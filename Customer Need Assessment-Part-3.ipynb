{
    "cells": [
        {
            "cell_type": "markdown",
            "metadata": {
                "collapsed": true
            },
            "source": "## Customer Need Assessment Model (Part-3): Regression Analysis"
        },
        {
            "cell_type": "markdown",
            "metadata": {},
            "source": "<p style=\"text-align: center;\">By T. B. Tesema  and Stefan Gucu </p> "
        },
        {
            "cell_type": "markdown",
            "metadata": {},
            "source": "<a href='#Summary'>Summary</a><br>\n<a href='#Multiple Linear Regression'> Multiple Linear Regression</a><br>\n<a href='#Pearson Correlation'>Pearson Correlation</a><br>\n<a href='#Polynomial Regression'>Polynomial Regression</a><br>\n<a href='#Ridge Regression'>Ridge Regression</a><br>\n<a href='#Grid Search'>Grid Search</a> <br>"
        },
        {
            "cell_type": "markdown",
            "metadata": {},
            "source": "<a name = 'Summary'></a>\n<h3>Summary</h3>\n\nThe model has been presumably developed on pizza sales data. Its purpose is to introduce a simple model for customer need assessment. An initial previous analysis indicated that two attributes, income and age were highly associated with the frequency of customer pizza orders. \n\nThe present analysis has used Regression models: Linear Regression, Polynomial Regression, Ridge Regression and Grid Search have been analyzed intensively. Key indicators in Regression methodologies are mean square error (MSE) and R_square. In this regard, these models resulted in high correlations, ranging from \u00a0 0.84 to 1.0 R_square and low MSE. Nevertheless, Polynomial Regression produced the highest R_square value for observed y and predicted y (R2 = 1.0) compared to the other three models, as shown in the following table. Similarly, Polynomial Regression is also associated with the lowest MSE, 1.56e-29, almost zero. The analysis has been conducted on a test dataset with two degree quadratic equations.\n \n| Model               |Mean Square Error|R_Square|Degree|\n|---------------------|-----------------|--------|------|\n|Linear Regression    |   1.9381        |   0.84 |  2   |\n|                     |                 |        |      |\n|Polynomial Regression|    1.56E-29     |   1.0  |  2   |\n|                     |                 |        |      |\n|Ridge Regression     |    0.3280       |  0.96  |  2   |\n|                     |                 |        |      |\n|Gride Search         |     N/A         |  0.87  |  2   |\n|                     |                 |        |      |\n\nThe Model Part-1, consisted of relevant visualizations has been published with introduction at  [Github](https://github.com/Tesema-B/Tesema-B/blob/679b05d29c54aebcf94a2fd3921fd7da1a74e9ee/CUSTOMER%20NEED%20ASSESSMENT.ipynb). Mdel Part-2, Clustering has been also published on [Github](https://github.com/Tesema-B/Tesema-B/blob/master/CUSTOMER%20NEED%20ASSESSMENT-PART-2.ipynb). The present article is Part-3. The publication of Part-4, Logistic Regression will be available in the future."
        },
        {
            "cell_type": "code",
            "execution_count": 1,
            "metadata": {},
            "outputs": [
                {
                    "name": "stderr",
                    "output_type": "stream",
                    "text": "/opt/conda/envs/Python-3.7-main/lib/python3.7/site-packages/IPython/html.py:14: ShimWarning: The `IPython.html` package has been deprecated since IPython 4.0. You should import from `notebook` instead. `IPython.html.widgets` has moved to `ipywidgets`.\n  \"`IPython.html.widgets` has moved to `ipywidgets`.\", ShimWarning)\n"
                }
            ],
            "source": "#Import Needed Libraries\n\nimport pandas as pd\nimport numpy as np\nimport scipy\nimport matplotlib.pyplot as plt\nimport seaborn as sns\n%matplotlib inline\n\n# %%capture\n# ! pip install ipywidgets\nfrom IPython.display import display\nfrom IPython.html import widgets \nfrom IPython.display import display\nfrom ipywidgets import interact, interactive, fixed, interact_manual\n\nfrom botocore.client import Config\nimport ibm_boto3"
        },
        {
            "cell_type": "code",
            "execution_count": 2,
            "metadata": {},
            "outputs": [
                {
                    "data": {
                        "text/html": "<div>\n<style scoped>\n    .dataframe tbody tr th:only-of-type {\n        vertical-align: middle;\n    }\n\n    .dataframe tbody tr th {\n        vertical-align: top;\n    }\n\n    .dataframe thead th {\n        text-align: right;\n    }\n</style>\n<table border=\"1\" class=\"dataframe\">\n  <thead>\n    <tr style=\"text-align: right;\">\n      <th></th>\n      <th>Order_ID</th>\n      <th>Pizza_Type</th>\n      <th>Zip_Code</th>\n      <th>Gender</th>\n      <th>Age</th>\n      <th>Income</th>\n      <th>Order_Frequency</th>\n      <th>Status</th>\n    </tr>\n  </thead>\n  <tbody>\n    <tr>\n      <th>0</th>\n      <td>P000</td>\n      <td>Cheese</td>\n      <td>75008</td>\n      <td>F</td>\n      <td>20</td>\n      <td>30</td>\n      <td>4</td>\n      <td>V</td>\n    </tr>\n    <tr>\n      <th>1</th>\n      <td>P001</td>\n      <td>Veggie</td>\n      <td>75010</td>\n      <td>M</td>\n      <td>50</td>\n      <td>98</td>\n      <td>10</td>\n      <td>C</td>\n    </tr>\n    <tr>\n      <th>2</th>\n      <td>P002</td>\n      <td>Pepperoni</td>\n      <td>75011</td>\n      <td>M</td>\n      <td>36</td>\n      <td>46</td>\n      <td>8</td>\n      <td>C</td>\n    </tr>\n    <tr>\n      <th>3</th>\n      <td>P003</td>\n      <td>Meat</td>\n      <td>75012</td>\n      <td>F</td>\n      <td>22</td>\n      <td>35</td>\n      <td>5</td>\n      <td>A</td>\n    </tr>\n    <tr>\n      <th>4</th>\n      <td>P004</td>\n      <td>Margerhita</td>\n      <td>75013</td>\n      <td>F</td>\n      <td>45</td>\n      <td>85</td>\n      <td>9</td>\n      <td>C</td>\n    </tr>\n  </tbody>\n</table>\n</div>",
                        "text/plain": "  Order_ID  Pizza_Type  Zip_Code Gender  Age  Income  Order_Frequency Status\n0     P000      Cheese     75008      F   20      30                4      V\n1     P001      Veggie     75010      M   50      98               10      C\n2     P002   Pepperoni     75011      M   36      46                8      C\n3     P003        Meat     75012      F   22      35                5      A\n4     P004  Margerhita     75013      F   45      85                9      C"
                    },
                    "execution_count": 2,
                    "metadata": {},
                    "output_type": "execute_result"
                }
            ],
            "source": "# The code was removed by Watson Studio for sharing."
        },
        {
            "cell_type": "markdown",
            "metadata": {},
            "source": "<a name = 'Multiple Linear Regression'></a>\n<h3>Multiple Linear Regression</h3>\n\nMultiple Linear Regression is actually similar to simple Linear Regression, but the difference is Multiple Regression explain the relationship between one continuous dependent variable and two or more predictors (independent variables). It is expressed in the following equasion, where y_hat represents predicted y value.\ny_hat = a + b1X1 + b2X2 + b3X3 + bX4 + ..."
        },
        {
            "cell_type": "code",
            "execution_count": 3,
            "metadata": {},
            "outputs": [],
            "source": "# Since visualization has been published in Part-1, let jamp to data analysis.\n# Let us first define four the colomuns of df above in the relation to Order_Frequency and predict the same.\n\ndf_r = df[['Age', 'Income', 'Order_Frequency']]\nZ = df[['Age', 'Income']]\ny = df['Order_Frequency'] "
        },
        {
            "cell_type": "markdown",
            "metadata": {},
            "source": "<a name = 'Pearson Correlation'></a>\n<h3>Pearson Correlation</h3>\n\nPearson correlation is most appropriate when the relationship between the two variables is linear. The table below, helps us to examine, specifically individual correlation between two variables or a variable by itself, for instance, correlation between Income and Income is maximum correlation, which is one. We can easily calculate Pearson correlation coefficient using pandas' function as shown below."
        },
        {
            "cell_type": "code",
            "execution_count": 5,
            "metadata": {},
            "outputs": [
                {
                    "data": {
                        "text/html": "<div>\n<style scoped>\n    .dataframe tbody tr th:only-of-type {\n        vertical-align: middle;\n    }\n\n    .dataframe tbody tr th {\n        vertical-align: top;\n    }\n\n    .dataframe thead th {\n        text-align: right;\n    }\n</style>\n<table border=\"1\" class=\"dataframe\">\n  <thead>\n    <tr style=\"text-align: right;\">\n      <th></th>\n      <th>Age</th>\n      <th>Income</th>\n      <th>Order_Frequency</th>\n    </tr>\n  </thead>\n  <tbody>\n    <tr>\n      <th>Age</th>\n      <td>1.000000</td>\n      <td>0.606671</td>\n      <td>0.388658</td>\n    </tr>\n    <tr>\n      <th>Income</th>\n      <td>0.606671</td>\n      <td>1.000000</td>\n      <td>0.897950</td>\n    </tr>\n    <tr>\n      <th>Order_Frequency</th>\n      <td>0.388658</td>\n      <td>0.897950</td>\n      <td>1.000000</td>\n    </tr>\n  </tbody>\n</table>\n</div>",
                        "text/plain": "                      Age    Income  Order_Frequency\nAge              1.000000  0.606671         0.388658\nIncome           0.606671  1.000000         0.897950\nOrder_Frequency  0.388658  0.897950         1.000000"
                    },
                    "execution_count": 5,
                    "metadata": {},
                    "output_type": "execute_result"
                }
            ],
            "source": "corr = df_r.corr()\ncorr.head()"
        },
        {
            "cell_type": "code",
            "execution_count": 6,
            "metadata": {},
            "outputs": [
                {
                    "data": {
                        "text/plain": "Text(0.5, 1.0, 'Pearsons-Correlation')"
                    },
                    "execution_count": 6,
                    "metadata": {},
                    "output_type": "execute_result"
                },
                {
                    "data": {
                        "image/png": "[encoded data removed]",
                        "text/plain": "<Figure size 432x288 with 2 Axes>"
                    },
                    "metadata": {
                        "needs_background": "light"
                    },
                    "output_type": "display_data"
                }
            ],
            "source": "# Let us visualize the Pearson correlation coefficient illustrated above by using seaborn:\n\nsns.heatmap(corr,xticklabels=corr.columns.values, yticklabels=corr.columns.values)\nplt.title(\"Pearsons-Correlation\")"
        },
        {
            "cell_type": "markdown",
            "metadata": {},
            "source": "**Obtaining correlation** (r) and p_values: The pandas function above has calculated Pearson correlation vales for the of the variables, but, without p_values called significant level(s). Whether a particular test is significant or not depends on a given p value. A small p or close to zero is preferable. we can calculate both r and p_value by importing scipy.stats, for the above attributes."
        },
        {
            "cell_type": "code",
            "execution_count": 7,
            "metadata": {},
            "outputs": [
                {
                    "name": "stdout",
                    "output_type": "stream",
                    "text": "Pearsonr=0.389, P_value=0.000\nPearsonr=0.898, P_value=0.000\n"
                }
            ],
            "source": "from scipy import stats\n\nX1 = df_r['Age']\nX2 = df_r['Income']\ny = df_r['Order_Frequency']\n\npearsonr_coefficient, p_value = stats.pearsonr(X1, y)\nprint(\"Pearsonr=%0.3f, P_value=%0.3f\" % (pearsonr_coefficient, p_value))\n\npearsonr_coefficient, p_value = stats.pearsonr(X2, y)\nprint(\"Pearsonr=%0.3f, P_value=%0.3f\" % (pearsonr_coefficient, p_value))"
        },
        {
            "cell_type": "code",
            "execution_count": 8,
            "metadata": {},
            "outputs": [
                {
                    "name": "stdout",
                    "output_type": "stream",
                    "text": "(230, 2)\n(230,)\n"
                }
            ],
            "source": "from sklearn.model_selection import train_test_split\narray = df.values\nX = array[:, 4:6]\ny = array[:, 6]\n\nX_train, X_test, y_train, y_test = train_test_split(X, y, test_size=.02, random_state = 1)\n\nprint(X.shape)\nprint(y.shape)"
        },
        {
            "cell_type": "code",
            "execution_count": 9,
            "metadata": {},
            "outputs": [],
            "source": "# Creating object\nfrom sklearn.linear_model import LinearRegression\n\nlr = LinearRegression()"
        },
        {
            "cell_type": "code",
            "execution_count": 10,
            "metadata": {},
            "outputs": [
                {
                    "data": {
                        "text/plain": "LinearRegression()"
                    },
                    "execution_count": 10,
                    "metadata": {},
                    "output_type": "execute_result"
                }
            ],
            "source": "lr.fit(X_train, y_train)"
        },
        {
            "cell_type": "code",
            "execution_count": 11,
            "metadata": {},
            "outputs": [
                {
                    "data": {
                        "text/plain": "array([4, 10, 8, 5, 9, 8, 9, 3, 2, 6, 3, 10, 4, 7, 3, 2, 11, 4, 4, 9, 8,\n       8, 8, 12, 11], dtype=object)"
                    },
                    "execution_count": 11,
                    "metadata": {},
                    "output_type": "execute_result"
                }
            ],
            "source": "# Then, let us predict the Order_Frequency and see the first 25 cases:\ny_hat = lr.predict(Z)\ny[0:25]"
        },
        {
            "cell_type": "markdown",
            "metadata": {},
            "source": "#### Let calculate other key indicators as follows, including mean square error(MSE):"
        },
        {
            "cell_type": "markdown",
            "metadata": {},
            "source": "MSE is difference between observed and expected values of target variable called a dependent variable, (observed_y and predicted_y)."
        },
        {
            "cell_type": "code",
            "execution_count": 12,
            "metadata": {},
            "outputs": [
                {
                    "name": "stdout",
                    "output_type": "stream",
                    "text": "The mean square error, difference between observed Order_Frequency and predicted Order_Frequency is:  1.4557290602017\n"
                }
            ],
            "source": "from sklearn.metrics import mean_squared_error\nmse = mean_squared_error(y, y_hat)\nprint('The mean square error, difference between observed Order_Frequency and predicted Order_Frequency is: ', mse)"
        },
        {
            "cell_type": "code",
            "execution_count": 13,
            "metadata": {},
            "outputs": [
                {
                    "data": {
                        "text/plain": "array([-0.06630623,  0.11552382])"
                    },
                    "execution_count": 13,
                    "metadata": {},
                    "output_type": "execute_result"
                }
            ],
            "source": "#Slope\n#It is the amount of change that occur in y or dependent variable as a result a unit increase or decrease in X\n\nlr.coef_"
        },
        {
            "cell_type": "code",
            "execution_count": 14,
            "metadata": {},
            "outputs": [
                {
                    "data": {
                        "text/plain": "1.9381014286734999"
                    },
                    "execution_count": 14,
                    "metadata": {},
                    "output_type": "execute_result"
                }
            ],
            "source": "#Intercept\n# a constant response value when all of the explanatory variables are with zero effect.\nlr.intercept_"
        },
        {
            "cell_type": "code",
            "execution_count": 15,
            "metadata": {},
            "outputs": [
                {
                    "name": "stdout",
                    "output_type": "stream",
                    "text": "R2 =  0.8448656570869428\n"
                }
            ],
            "source": "# Let us calculate R-Square\nfrom sklearn.metrics import r2_score\n\nR2 = r2_score(y, y_hat)\nprint('R2 = ', R2)"
        },
        {
            "cell_type": "markdown",
            "metadata": {},
            "source": "The total Order_Frequency of these variables are summarized in the following quadratic equation:   \ny_hat = a + b1X1 + b2**2"
        },
        {
            "cell_type": "markdown",
            "metadata": {},
            "source": "**Distribution Plot **: Let us draw the distributions of observed Order_Frequency and predicted Order_Frequency, then compare them. The closeness of the two lines should be the indication of the fitness of the model. In the present case, as can be seen from the figure, the predicted Order_Frequency is not close to the actual Order_Frequency since theere is a large gap at the top of the figure. Thus, there is a room for improvement and to take up an alternative method called polymonial regression, as discussed below."
        },
        {
            "cell_type": "code",
            "execution_count": 16,
            "metadata": {},
            "outputs": [
                {
                    "data": {
                        "image/png": "[encoded data removed]",
                        "text/plain": "<Figure size 576x720 with 1 Axes>"
                    },
                    "metadata": {
                        "needs_background": "light"
                    },
                    "output_type": "display_data"
                }
            ],
            "source": "# The following codes used for plot the distribution are provided at IBM Cloud, Cognitive Skills Network Lab\n# but made minor modifications.\n\nwidth = 8\nheight = 10\n\nplt.figure(figsize=(width, height))\n\n\nax1 = sns.distplot(y, hist=False, color=\"r\", label=\"Actual Value\")\nsns.distplot(y_hat, hist=False, color=\"b\", label=\"Predicted Values\" , ax=ax1)\n\n\nplt.title('Actual vs Predicted Order_Frequency')\nplt.xlabel('Age and Income (contributing factors)')\nplt.ylabel('Order_Frequency')\n\nplt.show()\nplt.close()"
        },
        {
            "cell_type": "markdown",
            "metadata": {},
            "source": "<a name = 'Polynomial Regression'></a>\n<h3>Polynomial Regression</h3>\n\nLet us apply Polynomial transform and then regression analysis on the same data."
        },
        {
            "cell_type": "markdown",
            "metadata": {},
            "source": "#### Polynomial Features\nPolynomial features are those features created by raising existing features to an exponent.\n\nFor example, if a dataset had one input feature X, then a polynomial feature would be the addition of a new feature (column) where values were calculated by squaring the values in X, e.g. X^2. This process can be repeated for each input variable in the dataset, creating a transformed version of each.\n\nAs such, polynomial features are a type of feature engineering, e.g. the creation of new input features based on the existing features.\n\nThe \u201cdegree\u201d of the polynomial is used to control the number of features added, e.g. a degree of 3 will add two new variables for each input variable. Typically a small degree is used such as 2 or 3 and more than the degree of 4 is unusual. \n\nIn the next lines, we will experiment feature transformation and select an optimum degree for the current data.  "
        },
        {
            "cell_type": "code",
            "execution_count": 17,
            "metadata": {},
            "outputs": [
                {
                    "data": {
                        "text/plain": "PolynomialFeatures()"
                    },
                    "execution_count": 17,
                    "metadata": {},
                    "output_type": "execute_result"
                }
            ],
            "source": "from sklearn.preprocessing import PolynomialFeatures\n\npr = PolynomialFeatures(degree=2)\nX_train_pr = pr.fit_transform(X_train)\nX_test_pr = pr.fit_transform(X_test)\npr"
        },
        {
            "cell_type": "markdown",
            "metadata": {},
            "source": "##### Next step is creating a linear regression model \"poly\" and training it"
        },
        {
            "cell_type": "code",
            "execution_count": 18,
            "metadata": {},
            "outputs": [
                {
                    "data": {
                        "text/plain": "LinearRegression()"
                    },
                    "execution_count": 18,
                    "metadata": {},
                    "output_type": "execute_result"
                }
            ],
            "source": "poly = LinearRegression()\npoly.fit(X_train_pr, y_train)"
        },
        {
            "cell_type": "code",
            "execution_count": 19,
            "metadata": {},
            "outputs": [
                {
                    "data": {
                        "text/plain": "array([ 5.4136823 ,  8.17702605,  5.85978869,  5.2701947 ,  2.13437142,\n       11.10157955,  9.15752344, 10.0090946 ,  5.17623302,  7.47138509,\n        4.96069281,  3.51404871,  4.93916784,  3.29960544,  7.98707421])"
                    },
                    "execution_count": 19,
                    "metadata": {},
                    "output_type": "execute_result"
                }
            ],
            "source": "y_train_poly_pred = poly.predict(X_train_pr)\ny_train_poly_pred[0:15]"
        },
        {
            "cell_type": "code",
            "execution_count": 20,
            "metadata": {},
            "outputs": [
                {
                    "name": "stdout",
                    "output_type": "stream",
                    "text": "The mean square error\ndifference between\nobserved training Order_Frequency and predicted training value:  0.9549500592101133\n"
                }
            ],
            "source": "# Let us calculate the mean error for observed y_train and y_train_poly_pred after Polynomial transform.\nmse = mean_squared_error(y_train, y_train_poly_pred)\nprint('The mean square error' '\\n' 'difference between' '\\n' 'observed training Order_Frequency and predicted training value: ', mse)"
        },
        {
            "cell_type": "code",
            "execution_count": 21,
            "metadata": {},
            "outputs": [
                {
                    "data": {
                        "text/plain": "LinearRegression()"
                    },
                    "execution_count": 21,
                    "metadata": {},
                    "output_type": "execute_result"
                }
            ],
            "source": "#Let us also test validation data after polynomial transformation\n\npoly.fit(X_test_pr, y_test)"
        },
        {
            "cell_type": "code",
            "execution_count": 22,
            "metadata": {},
            "outputs": [
                {
                    "data": {
                        "text/plain": "array([ 5.,  3.,  6.,  9., 11.])"
                    },
                    "execution_count": 22,
                    "metadata": {},
                    "output_type": "execute_result"
                }
            ],
            "source": "#Let us predict y_poly_test\n\ny_poly_test_pred = poly.predict(X_test_pr)\ny_poly_test_pred[0:5]"
        },
        {
            "cell_type": "code",
            "execution_count": 23,
            "metadata": {},
            "outputs": [
                {
                    "name": "stdout",
                    "output_type": "stream",
                    "text": "Predicted Order_Frequency: [ 5.  3.  6.  9. 11.]\nActual Order_Frequency: [5 3 6 9 11]\n"
                }
            ],
            "source": "# Let's look at the first five and compare predicted and actual values.\n\nprint(\"Predicted Order_Frequency:\", y_poly_test_pred[0:5])\nprint(\"Actual Order_Frequency:\", y_test[0:5])"
        },
        {
            "cell_type": "code",
            "execution_count": 24,
            "metadata": {},
            "outputs": [
                {
                    "name": "stdout",
                    "output_type": "stream",
                    "text": "The mean square error\ndifference between\nobserved test order and predicted test order:  1.5619445923376034e-29\nthis means diffirence is close to zero\n"
                }
            ],
            "source": "mse = mean_squared_error(y_test, y_poly_test_pred)\nprint('The mean square error' '\\n' 'difference between' '\\n' 'observed test order and predicted test order: ' , mse) \nprint( 'this means diffirence is close to zero')"
        },
        {
            "cell_type": "code",
            "execution_count": 25,
            "metadata": {},
            "outputs": [
                {
                    "name": "stdout",
                    "output_type": "stream",
                    "text": "0.8985266343687304\n"
                }
            ],
            "source": "# Let us estimate R-Square for training data after polynomial transformation:\n#R-square of training\n\nR2 = r2_score(y_train, y_train_poly_pred)\nprint(R2)"
        },
        {
            "cell_type": "code",
            "execution_count": 26,
            "metadata": {},
            "outputs": [
                {
                    "name": "stdout",
                    "output_type": "stream",
                    "text": "1.0\n"
                }
            ],
            "source": "#R-Square of validation:\n\nR2 = r2_score(y_test, y_poly_test_pred)\nprint(R2)"
        },
        {
            "cell_type": "code",
            "execution_count": 27,
            "metadata": {},
            "outputs": [
                {
                    "data": {
                        "text/plain": "Text(2, 0.84, 'Maximum R^2 ')"
                    },
                    "execution_count": 27,
                    "metadata": {},
                    "output_type": "execute_result"
                },
                {
                    "data": {
                        "image/png": "[encoded data removed]",
                        "text/plain": "<Figure size 432x288 with 1 Axes>"
                    },
                    "metadata": {
                        "needs_background": "light"
                    },
                    "output_type": "display_data"
                }
            ],
            "source": "#Let us find out otimal R-Square (Rsqu) in differebt polynomial degrees:\n# y_value is concerned, we can use y_test or y_test_pred\n\nRsqu_optimal = []\n\norder = [1, 2, 3, 4]\nfor n in order:\n    pr = PolynomialFeatures(degree=n)\n    \n    X_train_pr = pr.fit_transform(X_train)\n    \n    X_test_pr = pr.fit_transform(X_test) \n    \n    lr.fit(X_test_pr, y_test)\n    \n    Rsqu_optimal.append(lr.score(X_test_pr, y_test))\n\nplt.plot(order, Rsqu_optimal)\nplt.xlabel('order')\nplt.ylabel('R^2')\nplt.title('R^2 Using Test Data')\nplt.text(2, 0.84, 'Maximum R^2 ')    "
        },
        {
            "cell_type": "markdown",
            "metadata": {},
            "source": "<a name = 'Ridge Regression'></a>\n<h3>Ridge Regression</h3>\n\nLet's perform a degree two polynomial transformation on our data, to use Ridge Regression."
        },
        {
            "cell_type": "code",
            "execution_count": 34,
            "metadata": {},
            "outputs": [],
            "source": "pr=PolynomialFeatures(degree=2)\nXri_train_pr= pr.fit_transform(X_train)\nXri_test_pr= pr.fit_transform(X_test)"
        },
        {
            "cell_type": "code",
            "execution_count": 35,
            "metadata": {},
            "outputs": [],
            "source": "# Let's import Ridge from the module linear models.\n\nfrom sklearn.linear_model import Ridge "
        },
        {
            "cell_type": "code",
            "execution_count": 36,
            "metadata": {},
            "outputs": [],
            "source": "RidgeModel = Ridge(alpha = 0.1)"
        },
        {
            "cell_type": "code",
            "execution_count": 38,
            "metadata": {},
            "outputs": [],
            "source": "RidgeModel.fit(Xri_train_pr, y_train)\n\ny_ridge = RidgeModel.predict(Xri_test_pr)"
        },
        {
            "cell_type": "code",
            "execution_count": 39,
            "metadata": {},
            "outputs": [
                {
                    "data": {
                        "text/plain": "array([ 4.98641926,  3.0016978 ,  6.01819187,  8.99215129, 11.00153978])"
                    },
                    "execution_count": 39,
                    "metadata": {},
                    "output_type": "execute_result"
                }
            ],
            "source": "# Similarly, we can obtain a prediction for test:\n\nRidgeModel.fit(Xri_test_pr, y_test)\n\ny_ridge_test = RidgeModel.predict(Xri_test_pr)\ny_ridge_test[0:5]\n"
        },
        {
            "cell_type": "code",
            "execution_count": 41,
            "metadata": {},
            "outputs": [],
            "source": "# We can select the value of Alfa that minimizes the test error, for example, we can use a for loop.\n\nRsqu_test = []\nRsqu_train = []\ndummy1 = []\nALFA = 10 * np.array(range(0,1000))\nfor alfa in ALFA:\n    RidgeModel = Ridge(alpha=alfa) \n    RidgeModel.fit(Xri_train_pr, y_train)\n    Rsqu_test.append(RidgeModel.score(Xri_test_pr, y_test))\n    Rsqu_train.append(RidgeModel.score(Xri_train_pr, y_train))\n"
        },
        {
            "cell_type": "code",
            "execution_count": 42,
            "metadata": {},
            "outputs": [
                {
                    "data": {
                        "text/plain": "<matplotlib.legend.Legend at 0x7f32d1917f90>"
                    },
                    "execution_count": 42,
                    "metadata": {},
                    "output_type": "execute_result"
                },
                {
                    "data": {
                        "image/png": "[encoded data removed]",
                        "text/plain": "<Figure size 720x576 with 1 Axes>"
                    },
                    "metadata": {
                        "needs_background": "light"
                    },
                    "output_type": "display_data"
                }
            ],
            "source": "# Then, we can plot out the value of R^2 for different Alphas \n\nwidth = 10\nheight = 8\nplt.figure(figsize=(width, height))\n\nplt.plot(ALFA,Rsqu_test, label='test data  ')\nplt.plot(ALFA,Rsqu_train, 'r', label='training Data ')\nplt.xlabel('alpha')\nplt.ylabel('R^2')\nplt.legend()"
        },
        {
            "cell_type": "markdown",
            "metadata": {},
            "source": "What we see from the above figure is as alpha also called parameter value increases the R_square value decreases for both training and test dataset. The optimum aplpha value is close to 1000, which is consistent with the alpha range given above for this analysis."
        },
        {
            "cell_type": "markdown",
            "metadata": {},
            "source": "For our comparison purposes, let us figure out both MSE and R_square for observed y test and predicted y-ridge:"
        },
        {
            "cell_type": "code",
            "execution_count": 47,
            "metadata": {},
            "outputs": [
                {
                    "name": "stdout",
                    "output_type": "stream",
                    "text": "The mean square error\ndifference between\nobserved test order and predicted test_bridge order:  0.328034519259058\n"
                }
            ],
            "source": "mse = mean_squared_error(y_test, y_ridge)\nprint('The mean square error' '\\n' 'difference between' '\\n' 'observed test order and predicted test_bridge order: ' , mse) "
        },
        {
            "cell_type": "code",
            "execution_count": 49,
            "metadata": {},
            "outputs": [
                {
                    "name": "stdout",
                    "output_type": "stream",
                    "text": "R2 =  0.9597996912672723\n"
                }
            ],
            "source": "R2 = r2_score(y_test, y_ridge)\nprint('R2 = ', R2)"
        },
        {
            "cell_type": "markdown",
            "metadata": {},
            "source": "<a name = 'Grid Search'></a>\n<h3>Grid Search</h3>\n\nThe term Alfa is a hyperparameter, sklearn has the class GridSearchCV to make the process of finding the best hyperparameter simpler."
        },
        {
            "cell_type": "code",
            "execution_count": 50,
            "metadata": {},
            "outputs": [],
            "source": "# Let's import GridSearchCV from the module model_selection.\n\nfrom sklearn.model_selection import GridSearchCV"
        },
        {
            "cell_type": "code",
            "execution_count": 51,
            "metadata": {},
            "outputs": [
                {
                    "data": {
                        "text/plain": "[{'alpha': [0.001, 0.1, 1, 10, 100, 1000, 10000, 100000, 100000]}]"
                    },
                    "execution_count": 51,
                    "metadata": {},
                    "output_type": "execute_result"
                }
            ],
            "source": "# We create a dictionary of parameter values:\n\nparameters1= [{'alpha': [0.001,0.1,1, 10, 100, 1000, 10000, 100000, 100000]}]\n\nparameters1"
        },
        {
            "cell_type": "code",
            "execution_count": 52,
            "metadata": {},
            "outputs": [
                {
                    "data": {
                        "text/plain": "Ridge()"
                    },
                    "execution_count": 52,
                    "metadata": {},
                    "output_type": "execute_result"
                }
            ],
            "source": "# Let us create a ridge regions object, RR:\n\nRR =Ridge()\n\nRR"
        },
        {
            "cell_type": "code",
            "execution_count": 54,
            "metadata": {},
            "outputs": [],
            "source": "# Let us create a ridge grid search object\n\nGrid1 = GridSearchCV(RR, parameters1,cv=4)"
        },
        {
            "cell_type": "code",
            "execution_count": 55,
            "metadata": {},
            "outputs": [
                {
                    "data": {
                        "text/plain": "GridSearchCV(cv=4, estimator=Ridge(),\n             param_grid=[{'alpha': [0.001, 0.1, 1, 10, 100, 1000, 10000, 100000,\n                                    100000]}])"
                    },
                    "execution_count": 55,
                    "metadata": {},
                    "output_type": "execute_result"
                }
            ],
            "source": "# Fit the model\n\nGrid1.fit(X_train, y_train)"
        },
        {
            "cell_type": "markdown",
            "metadata": {},
            "source": "The object finds the best parameter values on the test data. We can obtain the estimator with the best parameters and assign it to the variable BestRR as follows:"
        },
        {
            "cell_type": "code",
            "execution_count": 56,
            "metadata": {},
            "outputs": [
                {
                    "data": {
                        "text/plain": "Ridge(alpha=1000)"
                    },
                    "execution_count": 56,
                    "metadata": {},
                    "output_type": "execute_result"
                }
            ],
            "source": "BestRR = Grid1.best_estimator_\nBestRR"
        },
        {
            "cell_type": "code",
            "execution_count": 57,
            "metadata": {},
            "outputs": [
                {
                    "data": {
                        "text/plain": "0.8861569251555129"
                    },
                    "execution_count": 57,
                    "metadata": {},
                    "output_type": "execute_result"
                }
            ],
            "source": "# Now let us test our model on the test data, which gives R_square values.\n\nBestRR.score(X_test, y_test)"
        },
        {
            "cell_type": "markdown",
            "metadata": {},
            "source": "In conclusion, in Ridge Regression, alpha values can be manually listed in range and then pick an optimum value. In the case of Grid Search, it is the process of performing hyper parameter tuning in order to determine an optimal value for a given model. The best optimum value is selected by an object, e.g. \u201cBestRR\u201d from a given Python dictionary. Default alpha = 0.1 and optimum is estimated to be 1000. It is also called Alfa."
        }
    ],
    "metadata": {
        "kernelspec": {
            "display_name": "Python 3.7",
            "language": "python",
            "name": "python3"
        },
        "language_info": {
            "codemirror_mode": {
                "name": "ipython",
                "version": 3
            },
            "file_extension": ".py",
            "mimetype": "text/x-python",
            "name": "python",
            "nbconvert_exporter": "python",
            "pygments_lexer": "ipython3",
            "version": "3.7.9"
        }
    },
    "nbformat": 4,
    "nbformat_minor": 1
}